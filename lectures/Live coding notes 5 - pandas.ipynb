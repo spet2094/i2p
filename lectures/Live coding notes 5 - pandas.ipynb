{
 "cells": [
  {
   "cell_type": "code",
   "execution_count": 1,
   "metadata": {},
   "outputs": [],
   "source": [
    "import pandas as pd"
   ]
  },
  {
   "cell_type": "code",
   "execution_count": 2,
   "metadata": {},
   "outputs": [
    {
     "name": "stdout",
     "output_type": "stream",
     "text": [
      "1.0.5\n"
     ]
    }
   ],
   "source": [
    "print(pd.__version__) # some substantial changes from before 1.0"
   ]
  },
  {
   "cell_type": "code",
   "execution_count": 4,
   "metadata": {},
   "outputs": [],
   "source": [
    "# starting with a series (same as a list or just single column in a table)"
   ]
  },
  {
   "cell_type": "code",
   "execution_count": 5,
   "metadata": {},
   "outputs": [],
   "source": [
    "srs = pd.Series([1,'two', 3, 'fourty-four', 3.235])"
   ]
  },
  {
   "cell_type": "code",
   "execution_count": 6,
   "metadata": {},
   "outputs": [
    {
     "name": "stdout",
     "output_type": "stream",
     "text": [
      "0              1\n",
      "1            two\n",
      "2              3\n",
      "3    fourty-four\n",
      "4          3.235\n",
      "dtype: object\n"
     ]
    }
   ],
   "source": [
    "print(srs)"
   ]
  },
  {
   "cell_type": "code",
   "execution_count": 7,
   "metadata": {},
   "outputs": [
    {
     "name": "stdout",
     "output_type": "stream",
     "text": [
      "fourty-four\n"
     ]
    }
   ],
   "source": [
    "print(srs[3])"
   ]
  },
  {
   "cell_type": "code",
   "execution_count": 10,
   "metadata": {},
   "outputs": [
    {
     "name": "stdout",
     "output_type": "stream",
     "text": [
      "<class 'str'>\n"
     ]
    }
   ],
   "source": [
    "print(type(srs[1]))"
   ]
  },
  {
   "cell_type": "code",
   "execution_count": 11,
   "metadata": {},
   "outputs": [
    {
     "name": "stdout",
     "output_type": "stream",
     "text": [
      "2    3\n",
      "dtype: object\n"
     ]
    }
   ],
   "source": [
    "print(srs[2:3])  # you can make calculations on subsets of variables"
   ]
  },
  {
   "cell_type": "code",
   "execution_count": 12,
   "metadata": {},
   "outputs": [
    {
     "data": {
      "text/plain": [
       "array(['fourty-four', 3.235], dtype=object)"
      ]
     },
     "execution_count": 12,
     "metadata": {},
     "output_type": "execute_result"
    }
   ],
   "source": [
    "srs[3:6].values"
   ]
  },
  {
   "cell_type": "code",
   "execution_count": 21,
   "metadata": {},
   "outputs": [
    {
     "name": "stdout",
     "output_type": "stream",
     "text": [
      "max    7.00\n",
      "min    1.00\n",
      "std    0.29\n",
      "dtype: float64\n"
     ]
    }
   ],
   "source": [
    "srs2 = pd.Series([7,1,0.29], index= ['max','min','std'])\n",
    "print(srs2)  # assigning indices to values "
   ]
  },
  {
   "cell_type": "code",
   "execution_count": 22,
   "metadata": {},
   "outputs": [
    {
     "data": {
      "text/plain": [
       "1.0"
      ]
     },
     "execution_count": 22,
     "metadata": {},
     "output_type": "execute_result"
    }
   ],
   "source": [
    "srs2['min']"
   ]
  },
  {
   "cell_type": "code",
   "execution_count": 23,
   "metadata": {},
   "outputs": [
    {
     "data": {
      "text/plain": [
       "0.29"
      ]
     },
     "execution_count": 23,
     "metadata": {},
     "output_type": "execute_result"
    }
   ],
   "source": [
    "srs2.min()  # this is calling the minimum value through the method"
   ]
  },
  {
   "cell_type": "code",
   "execution_count": 26,
   "metadata": {},
   "outputs": [],
   "source": [
    "srs3 = pd.Series([100,200,300,400], index= ['one', 'two', 'three', 'four'])"
   ]
  },
  {
   "cell_type": "code",
   "execution_count": 27,
   "metadata": {},
   "outputs": [
    {
     "data": {
      "text/plain": [
       "one      False\n",
       "two      False\n",
       "three     True\n",
       "four      True\n",
       "dtype: bool"
      ]
     },
     "execution_count": 27,
     "metadata": {},
     "output_type": "execute_result"
    }
   ],
   "source": [
    "srs3 > 250"
   ]
  },
  {
   "cell_type": "code",
   "execution_count": 28,
   "metadata": {},
   "outputs": [
    {
     "name": "stdout",
     "output_type": "stream",
     "text": [
      "400\n"
     ]
    }
   ],
   "source": [
    "print(srs3.iloc[-1]) #asking for stuff by location"
   ]
  },
  {
   "cell_type": "code",
   "execution_count": 30,
   "metadata": {},
   "outputs": [],
   "source": [
    "myData = {\n",
    "    'id': [1,2,3,4,5],\n",
    "    'name': ['a','b','c','d','e'],\n",
    "}"
   ]
  },
  {
   "cell_type": "code",
   "execution_count": 33,
   "metadata": {},
   "outputs": [],
   "source": [
    "df = pd.DataFrame(myData)"
   ]
  },
  {
   "cell_type": "code",
   "execution_count": 34,
   "metadata": {},
   "outputs": [
    {
     "data": {
      "text/plain": [
       "pandas.core.frame.DataFrame"
      ]
     },
     "execution_count": 34,
     "metadata": {},
     "output_type": "execute_result"
    }
   ],
   "source": [
    "type(df)"
   ]
  },
  {
   "cell_type": "code",
   "execution_count": 35,
   "metadata": {},
   "outputs": [
    {
     "data": {
      "text/html": [
       "<div>\n",
       "<style scoped>\n",
       "    .dataframe tbody tr th:only-of-type {\n",
       "        vertical-align: middle;\n",
       "    }\n",
       "\n",
       "    .dataframe tbody tr th {\n",
       "        vertical-align: top;\n",
       "    }\n",
       "\n",
       "    .dataframe thead th {\n",
       "        text-align: right;\n",
       "    }\n",
       "</style>\n",
       "<table border=\"1\" class=\"dataframe\">\n",
       "  <thead>\n",
       "    <tr style=\"text-align: right;\">\n",
       "      <th></th>\n",
       "      <th>id</th>\n",
       "      <th>name</th>\n",
       "    </tr>\n",
       "  </thead>\n",
       "  <tbody>\n",
       "    <tr>\n",
       "      <th>0</th>\n",
       "      <td>1</td>\n",
       "      <td>a</td>\n",
       "    </tr>\n",
       "    <tr>\n",
       "      <th>1</th>\n",
       "      <td>2</td>\n",
       "      <td>b</td>\n",
       "    </tr>\n",
       "    <tr>\n",
       "      <th>2</th>\n",
       "      <td>3</td>\n",
       "      <td>c</td>\n",
       "    </tr>\n",
       "    <tr>\n",
       "      <th>3</th>\n",
       "      <td>4</td>\n",
       "      <td>d</td>\n",
       "    </tr>\n",
       "    <tr>\n",
       "      <th>4</th>\n",
       "      <td>5</td>\n",
       "      <td>e</td>\n",
       "    </tr>\n",
       "  </tbody>\n",
       "</table>\n",
       "</div>"
      ],
      "text/plain": [
       "   id name\n",
       "0   1    a\n",
       "1   2    b\n",
       "2   3    c\n",
       "3   4    d\n",
       "4   5    e"
      ]
     },
     "execution_count": 35,
     "metadata": {},
     "output_type": "execute_result"
    }
   ],
   "source": [
    "df"
   ]
  },
  {
   "cell_type": "code",
   "execution_count": 36,
   "metadata": {},
   "outputs": [
    {
     "name": "stdout",
     "output_type": "stream",
     "text": [
      "<class 'pandas.core.frame.DataFrame'>\n",
      "RangeIndex: 5 entries, 0 to 4\n",
      "Data columns (total 2 columns):\n",
      " #   Column  Non-Null Count  Dtype \n",
      "---  ------  --------------  ----- \n",
      " 0   id      5 non-null      int64 \n",
      " 1   name    5 non-null      object\n",
      "dtypes: int64(1), object(1)\n",
      "memory usage: 208.0+ bytes\n"
     ]
    }
   ],
   "source": [
    "df.info()"
   ]
  },
  {
   "cell_type": "code",
   "execution_count": 37,
   "metadata": {},
   "outputs": [
    {
     "data": {
      "text/html": [
       "<div>\n",
       "<style scoped>\n",
       "    .dataframe tbody tr th:only-of-type {\n",
       "        vertical-align: middle;\n",
       "    }\n",
       "\n",
       "    .dataframe tbody tr th {\n",
       "        vertical-align: top;\n",
       "    }\n",
       "\n",
       "    .dataframe thead th {\n",
       "        text-align: right;\n",
       "    }\n",
       "</style>\n",
       "<table border=\"1\" class=\"dataframe\">\n",
       "  <thead>\n",
       "    <tr style=\"text-align: right;\">\n",
       "      <th></th>\n",
       "      <th>id</th>\n",
       "    </tr>\n",
       "  </thead>\n",
       "  <tbody>\n",
       "    <tr>\n",
       "      <th>count</th>\n",
       "      <td>5.000000</td>\n",
       "    </tr>\n",
       "    <tr>\n",
       "      <th>mean</th>\n",
       "      <td>3.000000</td>\n",
       "    </tr>\n",
       "    <tr>\n",
       "      <th>std</th>\n",
       "      <td>1.581139</td>\n",
       "    </tr>\n",
       "    <tr>\n",
       "      <th>min</th>\n",
       "      <td>1.000000</td>\n",
       "    </tr>\n",
       "    <tr>\n",
       "      <th>25%</th>\n",
       "      <td>2.000000</td>\n",
       "    </tr>\n",
       "    <tr>\n",
       "      <th>50%</th>\n",
       "      <td>3.000000</td>\n",
       "    </tr>\n",
       "    <tr>\n",
       "      <th>75%</th>\n",
       "      <td>4.000000</td>\n",
       "    </tr>\n",
       "    <tr>\n",
       "      <th>max</th>\n",
       "      <td>5.000000</td>\n",
       "    </tr>\n",
       "  </tbody>\n",
       "</table>\n",
       "</div>"
      ],
      "text/plain": [
       "             id\n",
       "count  5.000000\n",
       "mean   3.000000\n",
       "std    1.581139\n",
       "min    1.000000\n",
       "25%    2.000000\n",
       "50%    3.000000\n",
       "75%    4.000000\n",
       "max    5.000000"
      ]
     },
     "execution_count": 37,
     "metadata": {},
     "output_type": "execute_result"
    }
   ],
   "source": [
    "df.describe()"
   ]
  },
  {
   "cell_type": "code",
   "execution_count": 40,
   "metadata": {},
   "outputs": [],
   "source": [
    "df.set_index('id', inplace=True)  # this is replacing the data rather than copying it"
   ]
  },
  {
   "cell_type": "code",
   "execution_count": 41,
   "metadata": {},
   "outputs": [],
   "source": [
    "df2=df.copy() # is a deep copy, so it is not referring to the same df"
   ]
  },
  {
   "cell_type": "code",
   "execution_count": 42,
   "metadata": {},
   "outputs": [],
   "source": [
    "df3=df \n",
    "# this is a shallow copy so they are still linked. a change in one will be reflected in the other"
   ]
  },
  {
   "cell_type": "code",
   "execution_count": 43,
   "metadata": {},
   "outputs": [
    {
     "data": {
      "text/html": [
       "<div>\n",
       "<style scoped>\n",
       "    .dataframe tbody tr th:only-of-type {\n",
       "        vertical-align: middle;\n",
       "    }\n",
       "\n",
       "    .dataframe tbody tr th {\n",
       "        vertical-align: top;\n",
       "    }\n",
       "\n",
       "    .dataframe thead th {\n",
       "        text-align: right;\n",
       "    }\n",
       "</style>\n",
       "<table border=\"1\" class=\"dataframe\">\n",
       "  <thead>\n",
       "    <tr style=\"text-align: right;\">\n",
       "      <th></th>\n",
       "      <th>name</th>\n",
       "    </tr>\n",
       "    <tr>\n",
       "      <th>id</th>\n",
       "      <th></th>\n",
       "    </tr>\n",
       "  </thead>\n",
       "  <tbody>\n",
       "    <tr>\n",
       "      <th>3</th>\n",
       "      <td>c</td>\n",
       "    </tr>\n",
       "    <tr>\n",
       "      <th>4</th>\n",
       "      <td>d</td>\n",
       "    </tr>\n",
       "  </tbody>\n",
       "</table>\n",
       "</div>"
      ],
      "text/plain": [
       "   name\n",
       "id     \n",
       "3     c\n",
       "4     d"
      ]
     },
     "execution_count": 43,
     "metadata": {},
     "output_type": "execute_result"
    }
   ],
   "source": [
    "df.iloc[2:4][0:3]"
   ]
  },
  {
   "cell_type": "code",
   "execution_count": 44,
   "metadata": {},
   "outputs": [
    {
     "name": "stdout",
     "output_type": "stream",
     "text": [
      "id\n",
      "1    a\n",
      "2    b\n",
      "3    c\n",
      "4    d\n",
      "5    e\n",
      "Name: name, dtype: object\n",
      "id\n",
      "1    a\n",
      "2    b\n",
      "3    c\n",
      "4    d\n",
      "5    e\n",
      "Name: name, dtype: object\n"
     ]
    }
   ],
   "source": [
    "print(df.name) #they do the same thing \n",
    "print(df['name']) # this is for if you have spaces in your varname "
   ]
  },
  {
   "cell_type": "code",
   "execution_count": 4,
   "metadata": {},
   "outputs": [
    {
     "name": "stdout",
     "output_type": "stream",
     "text": [
      "<bound method DataFrame.info of           ID Case Number                    Date        Primary Type  \\\n",
      "0   11667185    JC237601  04/20/2019 11:00:00 PM            BURGLARY   \n",
      "1   11909178    JC532226  12/02/2019 10:35:00 AM  DECEPTIVE PRACTICE   \n",
      "2   11852571    JC462365  10/06/2019 04:50:00 PM             BATTERY   \n",
      "3   11804855    JC405161  08/23/2019 10:00:00 PM               THEFT   \n",
      "4   11808164    JC409088  08/26/2019 12:00:00 AM             BATTERY   \n",
      "..       ...         ...                     ...                 ...   \n",
      "95  11923269    JC548861  12/13/2019 09:20:00 PM             ASSAULT   \n",
      "96  11728933    JC313883  06/20/2019 05:02:00 AM             BATTERY   \n",
      "97  11685629    JC261285  05/10/2019 05:15:00 PM             ASSAULT   \n",
      "98  11760201    JC351547  07/16/2019 04:16:00 PM               THEFT   \n",
      "99  11648994    JC217114  04/08/2019 11:10:00 PM           NARCOTICS   \n",
      "\n",
      "                                          Description  \\\n",
      "0                                      FORCIBLE ENTRY   \n",
      "1                            FRAUD OR CONFIDENCE GAME   \n",
      "2   AGGRAVATED DOMESTIC BATTERY - OTHER DANGEROUS ...   \n",
      "3                                           OVER $500   \n",
      "4                                              SIMPLE   \n",
      "..                                                ...   \n",
      "95                                             SIMPLE   \n",
      "96                            DOMESTIC BATTERY SIMPLE   \n",
      "97                               AGG PRO.EMP: HANDGUN   \n",
      "98                                       RETAIL THEFT   \n",
      "99                       MANU/DELIVER: HEROIN (WHITE)   \n",
      "\n",
      "            Location Description  Arrest  Domestic  Year   Latitude  Longitude  \n",
      "0   COMMERCIAL / BUSINESS OFFICE   False     False  2019  41.751307 -87.603468  \n",
      "1             GROCERY FOOD STORE   False     False  2019  41.903997 -87.643230  \n",
      "2                 CLEANING STORE    True      True  2019  41.880329 -87.758473  \n",
      "3                         STREET   False     False  2019  41.924384 -87.641442  \n",
      "4                          ALLEY   False     False  2019  41.755797 -87.634426  \n",
      "..                           ...     ...       ...   ...        ...        ...  \n",
      "95                    RESTAURANT   False     False  2019  41.890384 -87.624110  \n",
      "96                     RESIDENCE   False     False  2019  41.921325 -87.779766  \n",
      "97       SCHOOL, PUBLIC, GROUNDS   False     False  2019  42.003359 -87.705800  \n",
      "98            GROCERY FOOD STORE   False     False  2019  42.019399 -87.675049  \n",
      "99            ABANDONED BUILDING    True     False  2019  41.877933 -87.729141  \n",
      "\n",
      "[100 rows x 11 columns]>\n"
     ]
    },
    {
     "data": {
      "text/html": [
       "<div>\n",
       "<style scoped>\n",
       "    .dataframe tbody tr th:only-of-type {\n",
       "        vertical-align: middle;\n",
       "    }\n",
       "\n",
       "    .dataframe tbody tr th {\n",
       "        vertical-align: top;\n",
       "    }\n",
       "\n",
       "    .dataframe thead th {\n",
       "        text-align: right;\n",
       "    }\n",
       "</style>\n",
       "<table border=\"1\" class=\"dataframe\">\n",
       "  <thead>\n",
       "    <tr style=\"text-align: right;\">\n",
       "      <th></th>\n",
       "      <th>ID</th>\n",
       "      <th>Year</th>\n",
       "      <th>Latitude</th>\n",
       "      <th>Longitude</th>\n",
       "    </tr>\n",
       "  </thead>\n",
       "  <tbody>\n",
       "    <tr>\n",
       "      <th>count</th>\n",
       "      <td>1.000000e+02</td>\n",
       "      <td>100.0</td>\n",
       "      <td>100.000000</td>\n",
       "      <td>100.000000</td>\n",
       "    </tr>\n",
       "    <tr>\n",
       "      <th>mean</th>\n",
       "      <td>1.172479e+07</td>\n",
       "      <td>2019.0</td>\n",
       "      <td>41.845500</td>\n",
       "      <td>-87.674197</td>\n",
       "    </tr>\n",
       "    <tr>\n",
       "      <th>std</th>\n",
       "      <td>1.056492e+05</td>\n",
       "      <td>0.0</td>\n",
       "      <td>0.083776</td>\n",
       "      <td>0.055893</td>\n",
       "    </tr>\n",
       "    <tr>\n",
       "      <th>min</th>\n",
       "      <td>1.155667e+07</td>\n",
       "      <td>2019.0</td>\n",
       "      <td>41.666091</td>\n",
       "      <td>-87.836650</td>\n",
       "    </tr>\n",
       "    <tr>\n",
       "      <th>25%</th>\n",
       "      <td>1.163515e+07</td>\n",
       "      <td>2019.0</td>\n",
       "      <td>41.773812</td>\n",
       "      <td>-87.716710</td>\n",
       "    </tr>\n",
       "    <tr>\n",
       "      <th>50%</th>\n",
       "      <td>1.171914e+07</td>\n",
       "      <td>2019.0</td>\n",
       "      <td>41.866925</td>\n",
       "      <td>-87.669222</td>\n",
       "    </tr>\n",
       "    <tr>\n",
       "      <th>75%</th>\n",
       "      <td>1.180549e+07</td>\n",
       "      <td>2019.0</td>\n",
       "      <td>41.902087</td>\n",
       "      <td>-87.631061</td>\n",
       "    </tr>\n",
       "    <tr>\n",
       "      <th>max</th>\n",
       "      <td>1.193442e+07</td>\n",
       "      <td>2019.0</td>\n",
       "      <td>42.019399</td>\n",
       "      <td>-87.551446</td>\n",
       "    </tr>\n",
       "  </tbody>\n",
       "</table>\n",
       "</div>"
      ],
      "text/plain": [
       "                 ID    Year    Latitude   Longitude\n",
       "count  1.000000e+02   100.0  100.000000  100.000000\n",
       "mean   1.172479e+07  2019.0   41.845500  -87.674197\n",
       "std    1.056492e+05     0.0    0.083776    0.055893\n",
       "min    1.155667e+07  2019.0   41.666091  -87.836650\n",
       "25%    1.163515e+07  2019.0   41.773812  -87.716710\n",
       "50%    1.171914e+07  2019.0   41.866925  -87.669222\n",
       "75%    1.180549e+07  2019.0   41.902087  -87.631061\n",
       "max    1.193442e+07  2019.0   42.019399  -87.551446"
      ]
     },
     "execution_count": 4,
     "metadata": {},
     "output_type": "execute_result"
    }
   ],
   "source": [
    "df= pd.read_csv(\n",
    "    \"../data/src/2019-sample-Crime.csv.gz\", \n",
    "    low_memory=False)\n",
    "print(df.info)\n",
    "df.describe()"
   ]
  },
  {
   "cell_type": "code",
   "execution_count": 59,
   "metadata": {},
   "outputs": [
    {
     "data": {
      "text/html": [
       "<div>\n",
       "<style scoped>\n",
       "    .dataframe tbody tr th:only-of-type {\n",
       "        vertical-align: middle;\n",
       "    }\n",
       "\n",
       "    .dataframe tbody tr th {\n",
       "        vertical-align: top;\n",
       "    }\n",
       "\n",
       "    .dataframe thead th {\n",
       "        text-align: right;\n",
       "    }\n",
       "</style>\n",
       "<table border=\"1\" class=\"dataframe\">\n",
       "  <thead>\n",
       "    <tr style=\"text-align: right;\">\n",
       "      <th></th>\n",
       "      <th>ID</th>\n",
       "      <th>Case Number</th>\n",
       "      <th>Date</th>\n",
       "      <th>Primary Type</th>\n",
       "      <th>Description</th>\n",
       "      <th>Location Description</th>\n",
       "      <th>Arrest</th>\n",
       "      <th>Domestic</th>\n",
       "      <th>Year</th>\n",
       "      <th>Latitude</th>\n",
       "      <th>Longitude</th>\n",
       "    </tr>\n",
       "  </thead>\n",
       "  <tbody>\n",
       "    <tr>\n",
       "      <th>0</th>\n",
       "      <td>11667185</td>\n",
       "      <td>JC237601</td>\n",
       "      <td>04/20/2019 11:00:00 PM</td>\n",
       "      <td>BURGLARY</td>\n",
       "      <td>FORCIBLE ENTRY</td>\n",
       "      <td>COMMERCIAL / BUSINESS OFFICE</td>\n",
       "      <td>False</td>\n",
       "      <td>False</td>\n",
       "      <td>2019</td>\n",
       "      <td>41.751307</td>\n",
       "      <td>-87.603468</td>\n",
       "    </tr>\n",
       "    <tr>\n",
       "      <th>1</th>\n",
       "      <td>11909178</td>\n",
       "      <td>JC532226</td>\n",
       "      <td>12/02/2019 10:35:00 AM</td>\n",
       "      <td>DECEPTIVE PRACTICE</td>\n",
       "      <td>FRAUD OR CONFIDENCE GAME</td>\n",
       "      <td>GROCERY FOOD STORE</td>\n",
       "      <td>False</td>\n",
       "      <td>False</td>\n",
       "      <td>2019</td>\n",
       "      <td>41.903997</td>\n",
       "      <td>-87.643230</td>\n",
       "    </tr>\n",
       "    <tr>\n",
       "      <th>2</th>\n",
       "      <td>11852571</td>\n",
       "      <td>JC462365</td>\n",
       "      <td>10/06/2019 04:50:00 PM</td>\n",
       "      <td>BATTERY</td>\n",
       "      <td>AGGRAVATED DOMESTIC BATTERY - OTHER DANGEROUS ...</td>\n",
       "      <td>CLEANING STORE</td>\n",
       "      <td>True</td>\n",
       "      <td>True</td>\n",
       "      <td>2019</td>\n",
       "      <td>41.880329</td>\n",
       "      <td>-87.758473</td>\n",
       "    </tr>\n",
       "  </tbody>\n",
       "</table>\n",
       "</div>"
      ],
      "text/plain": [
       "         ID Case Number                    Date        Primary Type  \\\n",
       "0  11667185    JC237601  04/20/2019 11:00:00 PM            BURGLARY   \n",
       "1  11909178    JC532226  12/02/2019 10:35:00 AM  DECEPTIVE PRACTICE   \n",
       "2  11852571    JC462365  10/06/2019 04:50:00 PM             BATTERY   \n",
       "\n",
       "                                         Description  \\\n",
       "0                                     FORCIBLE ENTRY   \n",
       "1                           FRAUD OR CONFIDENCE GAME   \n",
       "2  AGGRAVATED DOMESTIC BATTERY - OTHER DANGEROUS ...   \n",
       "\n",
       "           Location Description  Arrest  Domestic  Year   Latitude  Longitude  \n",
       "0  COMMERCIAL / BUSINESS OFFICE   False     False  2019  41.751307 -87.603468  \n",
       "1            GROCERY FOOD STORE   False     False  2019  41.903997 -87.643230  \n",
       "2                CLEANING STORE    True      True  2019  41.880329 -87.758473  "
      ]
     },
     "execution_count": 59,
     "metadata": {},
     "output_type": "execute_result"
    }
   ],
   "source": [
    "df.head(3)"
   ]
  },
  {
   "cell_type": "code",
   "execution_count": 60,
   "metadata": {},
   "outputs": [
    {
     "data": {
      "text/html": [
       "<div>\n",
       "<style scoped>\n",
       "    .dataframe tbody tr th:only-of-type {\n",
       "        vertical-align: middle;\n",
       "    }\n",
       "\n",
       "    .dataframe tbody tr th {\n",
       "        vertical-align: top;\n",
       "    }\n",
       "\n",
       "    .dataframe thead th {\n",
       "        text-align: right;\n",
       "    }\n",
       "</style>\n",
       "<table border=\"1\" class=\"dataframe\">\n",
       "  <thead>\n",
       "    <tr style=\"text-align: right;\">\n",
       "      <th></th>\n",
       "      <th>ID</th>\n",
       "      <th>Case Number</th>\n",
       "      <th>Date</th>\n",
       "      <th>Primary Type</th>\n",
       "      <th>Description</th>\n",
       "      <th>Location Description</th>\n",
       "      <th>Arrest</th>\n",
       "      <th>Domestic</th>\n",
       "      <th>Year</th>\n",
       "      <th>Latitude</th>\n",
       "      <th>Longitude</th>\n",
       "    </tr>\n",
       "  </thead>\n",
       "  <tbody>\n",
       "    <tr>\n",
       "      <th>83</th>\n",
       "      <td>11619311</td>\n",
       "      <td>JC181055</td>\n",
       "      <td>03/10/2019 05:00:00 PM</td>\n",
       "      <td>MOTOR VEHICLE THEFT</td>\n",
       "      <td>AUTOMOBILE</td>\n",
       "      <td>STREET</td>\n",
       "      <td>False</td>\n",
       "      <td>False</td>\n",
       "      <td>2019</td>\n",
       "      <td>41.749324</td>\n",
       "      <td>-87.670688</td>\n",
       "    </tr>\n",
       "    <tr>\n",
       "      <th>53</th>\n",
       "      <td>11708996</td>\n",
       "      <td>JC288587</td>\n",
       "      <td>06/02/2019 03:15:00 AM</td>\n",
       "      <td>BATTERY</td>\n",
       "      <td>DOMESTIC BATTERY SIMPLE</td>\n",
       "      <td>APARTMENT</td>\n",
       "      <td>False</td>\n",
       "      <td>True</td>\n",
       "      <td>2019</td>\n",
       "      <td>41.972254</td>\n",
       "      <td>-87.726930</td>\n",
       "    </tr>\n",
       "    <tr>\n",
       "      <th>70</th>\n",
       "      <td>11580480</td>\n",
       "      <td>JC133698</td>\n",
       "      <td>01/29/2019 01:20:00 PM</td>\n",
       "      <td>INTERFERENCE WITH PUBLIC OFFICER</td>\n",
       "      <td>OBSTRUCTING IDENTIFICATION</td>\n",
       "      <td>STREET</td>\n",
       "      <td>True</td>\n",
       "      <td>False</td>\n",
       "      <td>2019</td>\n",
       "      <td>41.802612</td>\n",
       "      <td>-87.664807</td>\n",
       "    </tr>\n",
       "    <tr>\n",
       "      <th>45</th>\n",
       "      <td>11932794</td>\n",
       "      <td>JC560715</td>\n",
       "      <td>12/26/2019 11:00:00 AM</td>\n",
       "      <td>CRIMINAL DAMAGE</td>\n",
       "      <td>TO VEHICLE</td>\n",
       "      <td>PARKING LOT/GARAGE(NON.RESID.)</td>\n",
       "      <td>False</td>\n",
       "      <td>False</td>\n",
       "      <td>2019</td>\n",
       "      <td>41.883208</td>\n",
       "      <td>-87.634457</td>\n",
       "    </tr>\n",
       "    <tr>\n",
       "      <th>44</th>\n",
       "      <td>11682896</td>\n",
       "      <td>JC257755</td>\n",
       "      <td>05/06/2019 01:00:00 PM</td>\n",
       "      <td>DECEPTIVE PRACTICE</td>\n",
       "      <td>FINANCIAL IDENTITY THEFT OVER $ 300</td>\n",
       "      <td>APARTMENT</td>\n",
       "      <td>False</td>\n",
       "      <td>False</td>\n",
       "      <td>2019</td>\n",
       "      <td>41.808506</td>\n",
       "      <td>-87.675185</td>\n",
       "    </tr>\n",
       "  </tbody>\n",
       "</table>\n",
       "</div>"
      ],
      "text/plain": [
       "          ID Case Number                    Date  \\\n",
       "83  11619311    JC181055  03/10/2019 05:00:00 PM   \n",
       "53  11708996    JC288587  06/02/2019 03:15:00 AM   \n",
       "70  11580480    JC133698  01/29/2019 01:20:00 PM   \n",
       "45  11932794    JC560715  12/26/2019 11:00:00 AM   \n",
       "44  11682896    JC257755  05/06/2019 01:00:00 PM   \n",
       "\n",
       "                        Primary Type                          Description  \\\n",
       "83               MOTOR VEHICLE THEFT                           AUTOMOBILE   \n",
       "53                           BATTERY              DOMESTIC BATTERY SIMPLE   \n",
       "70  INTERFERENCE WITH PUBLIC OFFICER           OBSTRUCTING IDENTIFICATION   \n",
       "45                   CRIMINAL DAMAGE                           TO VEHICLE   \n",
       "44                DECEPTIVE PRACTICE  FINANCIAL IDENTITY THEFT OVER $ 300   \n",
       "\n",
       "              Location Description  Arrest  Domestic  Year   Latitude  \\\n",
       "83                          STREET   False     False  2019  41.749324   \n",
       "53                       APARTMENT   False      True  2019  41.972254   \n",
       "70                          STREET    True     False  2019  41.802612   \n",
       "45  PARKING LOT/GARAGE(NON.RESID.)   False     False  2019  41.883208   \n",
       "44                       APARTMENT   False     False  2019  41.808506   \n",
       "\n",
       "    Longitude  \n",
       "83 -87.670688  \n",
       "53 -87.726930  \n",
       "70 -87.664807  \n",
       "45 -87.634457  \n",
       "44 -87.675185  "
      ]
     },
     "execution_count": 60,
     "metadata": {},
     "output_type": "execute_result"
    }
   ],
   "source": [
    "df.sample(5, random_state=42)  # it's a random sample but the state is the 42"
   ]
  },
  {
   "cell_type": "code",
   "execution_count": 63,
   "metadata": {},
   "outputs": [],
   "source": [
    "df.to_csv('../data/src/test.csv.gz', index=False) # if we  don't want the index column (far left)"
   ]
  },
  {
   "cell_type": "code",
   "execution_count": 64,
   "metadata": {},
   "outputs": [
    {
     "data": {
      "text/html": [
       "<div>\n",
       "<style scoped>\n",
       "    .dataframe tbody tr th:only-of-type {\n",
       "        vertical-align: middle;\n",
       "    }\n",
       "\n",
       "    .dataframe tbody tr th {\n",
       "        vertical-align: top;\n",
       "    }\n",
       "\n",
       "    .dataframe thead th {\n",
       "        text-align: right;\n",
       "    }\n",
       "</style>\n",
       "<table border=\"1\" class=\"dataframe\">\n",
       "  <thead>\n",
       "    <tr style=\"text-align: right;\">\n",
       "      <th></th>\n",
       "      <th>ID</th>\n",
       "      <th>Case Number</th>\n",
       "      <th>Date</th>\n",
       "      <th>Primary Type</th>\n",
       "      <th>Description</th>\n",
       "      <th>Location Description</th>\n",
       "      <th>Arrest</th>\n",
       "      <th>Domestic</th>\n",
       "      <th>Year</th>\n",
       "      <th>Latitude</th>\n",
       "      <th>Longitude</th>\n",
       "    </tr>\n",
       "  </thead>\n",
       "  <tbody>\n",
       "    <tr>\n",
       "      <th>97</th>\n",
       "      <td>11685629</td>\n",
       "      <td>JC261285</td>\n",
       "      <td>05/10/2019 05:15:00 PM</td>\n",
       "      <td>ASSAULT</td>\n",
       "      <td>AGG PRO.EMP: HANDGUN</td>\n",
       "      <td>SCHOOL, PUBLIC, GROUNDS</td>\n",
       "      <td>False</td>\n",
       "      <td>False</td>\n",
       "      <td>2019</td>\n",
       "      <td>42.003359</td>\n",
       "      <td>-87.705800</td>\n",
       "    </tr>\n",
       "    <tr>\n",
       "      <th>98</th>\n",
       "      <td>11760201</td>\n",
       "      <td>JC351547</td>\n",
       "      <td>07/16/2019 04:16:00 PM</td>\n",
       "      <td>THEFT</td>\n",
       "      <td>RETAIL THEFT</td>\n",
       "      <td>GROCERY FOOD STORE</td>\n",
       "      <td>False</td>\n",
       "      <td>False</td>\n",
       "      <td>2019</td>\n",
       "      <td>42.019399</td>\n",
       "      <td>-87.675049</td>\n",
       "    </tr>\n",
       "    <tr>\n",
       "      <th>99</th>\n",
       "      <td>11648994</td>\n",
       "      <td>JC217114</td>\n",
       "      <td>04/08/2019 11:10:00 PM</td>\n",
       "      <td>NARCOTICS</td>\n",
       "      <td>MANU/DELIVER: HEROIN (WHITE)</td>\n",
       "      <td>ABANDONED BUILDING</td>\n",
       "      <td>True</td>\n",
       "      <td>False</td>\n",
       "      <td>2019</td>\n",
       "      <td>41.877933</td>\n",
       "      <td>-87.729141</td>\n",
       "    </tr>\n",
       "  </tbody>\n",
       "</table>\n",
       "</div>"
      ],
      "text/plain": [
       "          ID Case Number                    Date Primary Type  \\\n",
       "97  11685629    JC261285  05/10/2019 05:15:00 PM      ASSAULT   \n",
       "98  11760201    JC351547  07/16/2019 04:16:00 PM        THEFT   \n",
       "99  11648994    JC217114  04/08/2019 11:10:00 PM    NARCOTICS   \n",
       "\n",
       "                     Description     Location Description  Arrest  Domestic  \\\n",
       "97          AGG PRO.EMP: HANDGUN  SCHOOL, PUBLIC, GROUNDS   False     False   \n",
       "98                  RETAIL THEFT       GROCERY FOOD STORE   False     False   \n",
       "99  MANU/DELIVER: HEROIN (WHITE)       ABANDONED BUILDING    True     False   \n",
       "\n",
       "    Year   Latitude  Longitude  \n",
       "97  2019  42.003359 -87.705800  \n",
       "98  2019  42.019399 -87.675049  \n",
       "99  2019  41.877933 -87.729141  "
      ]
     },
     "execution_count": 64,
     "metadata": {},
     "output_type": "execute_result"
    }
   ],
   "source": [
    "df.tail(3)"
   ]
  },
  {
   "cell_type": "code",
   "execution_count": 66,
   "metadata": {},
   "outputs": [
    {
     "data": {
      "text/plain": [
       "(100, 11)"
      ]
     },
     "execution_count": 66,
     "metadata": {},
     "output_type": "execute_result"
    }
   ],
   "source": [
    "df.shape # 100 rows, 11 columns"
   ]
  },
  {
   "cell_type": "code",
   "execution_count": 67,
   "metadata": {},
   "outputs": [
    {
     "name": "stdout",
     "output_type": "stream",
     "text": [
      "['ID' 'Case Number' 'Date' 'Primary Type' 'Description'\n",
      " 'Location Description' 'Arrest' 'Domestic' 'Year' 'Latitude' 'Longitude']\n"
     ]
    }
   ],
   "source": [
    "print(df.columns.values)"
   ]
  },
  {
   "cell_type": "code",
   "execution_count": 69,
   "metadata": {},
   "outputs": [],
   "source": [
    "cols = ['Case Number', 'Date', 'Primary Type', 'Description','Location Description', 'Arrest']\n",
    "sub_df = pd.read_csv('../data/src/test.csv.gz', usecols=cols, nrows=50)"
   ]
  },
  {
   "cell_type": "code",
   "execution_count": 70,
   "metadata": {},
   "outputs": [
    {
     "data": {
      "text/plain": [
       "(50, 6)"
      ]
     },
     "execution_count": 70,
     "metadata": {},
     "output_type": "execute_result"
    }
   ],
   "source": [
    "sub_df.shape  # in the commmand above I've loaded a subset of the full dataset, 50 rows and 6 cols only as specified"
   ]
  },
  {
   "cell_type": "code",
   "execution_count": 6,
   "metadata": {},
   "outputs": [
    {
     "data": {
      "text/plain": [
       "<matplotlib.axes._subplots.AxesSubplot at 0x7fa99b3c7d30>"
      ]
     },
     "execution_count": 6,
     "metadata": {},
     "output_type": "execute_result"
    },
    {
     "data": {
      "image/png": "[encoded data removed]",
      "text/plain": [
       "<Figure size 432x288 with 1 Axes>"
      ]
     },
     "metadata": {
      "needs_background": "light"
     },
     "output_type": "display_data"
    }
   ],
   "source": [
    "df.plot.scatter(x='Latitude', y='Longitude', s=2)  # s refers to size of points"
   ]
  },
  {
   "cell_type": "code",
   "execution_count": null,
   "metadata": {},
   "outputs": [],
   "source": []
  }
 ],
 "metadata": {
  "kernelspec": {
   "display_name": "Python 3",
   "language": "python",
   "name": "python3"
  },
  "language_info": {
   "codemirror_mode": {
    "name": "ipython",
    "version": 3
   },
   "file_extension": ".py",
   "mimetype": "text/x-python",
   "name": "python",
   "nbconvert_exporter": "python",
   "pygments_lexer": "ipython3",
   "version": "3.7.7"
  }
 },
 "nbformat": 4,
 "nbformat_minor": 4
}
