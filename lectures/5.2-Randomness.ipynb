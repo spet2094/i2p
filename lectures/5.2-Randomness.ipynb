{
 "cells": [
  {
   "cell_type": "code",
   "execution_count": 1,
   "metadata": {},
   "outputs": [],
   "source": [
    "import random"
   ]
  },
  {
   "cell_type": "code",
   "execution_count": 9,
   "metadata": {},
   "outputs": [
    {
     "name": "stdout",
     "output_type": "stream",
     "text": [
      "[9976, 10045, 9863, 10060, 10016, 10015, 10035, 10031, 9971, 9988]\n"
     ]
    }
   ],
   "source": [
    "size = 10\n",
    "data = [0] * size\n",
    "\n",
    "tests = 100000\n",
    "while tests > 0:\n",
    "    data[random.randint(0,len(data)-1)] += 1\n",
    "    tests -= 1\n",
    "\n",
    "print(data)"
   ]
  },
  {
   "cell_type": "code",
   "execution_count": 10,
   "metadata": {},
   "outputs": [],
   "source": [
    "size = 1000\n",
    "data = [0] * size\n",
    "\n",
    "tests = 10000000\n",
    "while tests > 0:\n",
    "    data[random.randint(0,len(data)-1)] += 1\n",
    "    tests -= 1"
   ]
  },
  {
   "cell_type": "code",
   "execution_count": 18,
   "metadata": {},
   "outputs": [
    {
     "data": {
      "image/png": "[encoded data removed]",
      "text/plain": [
       "<Figure size 432x288 with 1 Axes>"
      ]
     },
     "metadata": {
      "needs_background": "light"
     },
     "output_type": "display_data"
    }
   ],
   "source": [
    "from matplotlib import pyplot as plt\n",
    "import numpy as np\n",
    "plt.bar(np.arange(0,len(data)), data)\n",
    "plt.show()"
   ]
  },
  {
   "cell_type": "code",
   "execution_count": 27,
   "metadata": {},
   "outputs": [],
   "source": [
    "import random \n",
    "from matplotlib import pyplot as plt\n",
    "import numpy as np\n",
    "\n",
    "size = 1000\n",
    "data = [0] * size\n",
    "\n",
    "tests = 10000000\n",
    "while tests > 0:\n",
    "    data[random.randint(0,len(data)-1)] += 1\n",
    "    tests -= 1"
   ]
  },
  {
   "cell_type": "code",
   "execution_count": 28,
   "metadata": {},
   "outputs": [
    {
     "data": {
      "image/png": "[encoded data removed]",
      "text/plain": [
       "<Figure size 432x288 with 1 Axes>"
      ]
     },
     "metadata": {
      "needs_background": "light"
     },
     "output_type": "display_data"
    }
   ],
   "source": [
    "fig = plt.figure()\n",
    "plt.bar(np.arange(0,len(data)), data)\n",
    "fig.savefig('Random.png', dpi=150, transparent=True)"
   ]
  },
  {
   "cell_type": "code",
   "execution_count": 30,
   "metadata": {},
   "outputs": [],
   "source": [
    "import random\n",
    "random.seed(42)\n",
    "\n",
    "import numpy as np\n",
    "np.random.seed(42)"
   ]
  },
  {
   "cell_type": "code",
   "execution_count": 33,
   "metadata": {},
   "outputs": [
    {
     "name": "stdout",
     "output_type": "stream",
     "text": [
      "Repetition 0:\n",
      "\t[1, 9, 6, 0, 0, 1, 3, 3, 8, 9]\n",
      "Repetition 1:\n",
      "\t[1, 9, 6, 0, 0, 1, 3, 3, 8, 9]\n",
      "Repetition 2:\n",
      "\t[1, 9, 6, 0, 0, 1, 3, 3, 8, 9]\n"
     ]
    }
   ],
   "source": [
    "st = random.getstate()\n",
    "\n",
    "for r in range(0,3):\n",
    "    random.setstate(st)\n",
    "    print(f\"Repetition {r}:\")\n",
    "    ints = []\n",
    "    for i in range(0,10):\n",
    "        ints.append(random.randint(0,10))\n",
    "    print(f\"\\t{ints}\")"
   ]
  },
  {
   "cell_type": "code",
   "execution_count": 47,
   "metadata": {},
   "outputs": [
    {
     "name": "stdout",
     "output_type": "stream",
     "text": [
      "The hex equivalent of hash is: acd601db5552408851070043947683ef\n",
      "The hex equivalent of hash is: 4458e89e9eb806f1ac60acfdf45d85b6\n"
     ]
    }
   ],
   "source": [
    "import hashlib\n",
    "\n",
    "r1 = hashlib.md5('CASA Intro to Programming'.encode())\n",
    "print(\"The hex equivalent of r1 is: \", end=\"\")\n",
    "print(r1.hexdigest())\n",
    "\n",
    "r2 = hashlib.md5('CASA Intro to Programming '.encode())\n",
    "print(\"The hex equivalent of r2 is: \", end=\"\")\n",
    "print(r2.hexdigest())"
   ]
  },
  {
   "cell_type": "code",
   "execution_count": 57,
   "metadata": {},
   "outputs": [
    {
     "name": "stdout",
     "output_type": "stream",
     "text": [
      "112127\n",
      "A Midsummer Night's Dream by Shakespeare\n"
     ]
    }
   ],
   "source": [
    "import requests\n",
    "night = requests.get(\"http://www.gutenberg.org/ebooks/1514.txt.utf-8\")\n",
    "print(len(night.text))\n",
    "print(night.text[30:70])"
   ]
  },
  {
   "cell_type": "code",
   "execution_count": 56,
   "metadata": {},
   "outputs": [
    {
     "name": "stdout",
     "output_type": "stream",
     "text": [
      "The hex equivalent of r3 is: acd601db5552408851070043947683ef\n"
     ]
    }
   ],
   "source": [
    "r3 = hashlib.md5(night.text.encode())\n",
    "print(\"The hex equivalent of r3 is: \", end=\"\") \n",
    "print(result.hexdigest())"
   ]
  },
  {
   "cell_type": "code",
   "execution_count": 87,
   "metadata": {},
   "outputs": [
    {
     "name": "stdout",
     "output_type": "stream",
     "text": [
      "5b1c205a53e14e15a1f13cdfccc7c232\n"
     ]
    }
   ],
   "source": [
    "import uuid\n",
    "salt = uuid.uuid4().hex\n",
    "print(salt)"
   ]
  },
  {
   "cell_type": "code",
   "execution_count": 102,
   "metadata": {},
   "outputs": [
    {
     "name": "stdout",
     "output_type": "stream",
     "text": [
      "5b1c205a53e14e\n",
      "sha1:5b1c205a53e14e:0ce169b9834984347d62b20b9a82f6513355f72d\n"
     ]
    }
   ],
   "source": [
    "import hashlib\n",
    "password = 'casa2021'\n",
    "salt = '5b1c205a53e14e'\n",
    "hashed_password = hashlib.sha1(password.encode() + salt.encode()).hexdigest()\n",
    "print(salt)\n",
    "print(':'.join(['sha1',salt,hashed_password]))"
   ]
  }
 ],
 "metadata": {
  "kernelspec": {
   "display_name": "Python 3",
   "language": "python",
   "name": "python3"
  },
  "language_info": {
   "codemirror_mode": {
    "name": "ipython",
    "version": 3
   },
   "file_extension": ".py",
   "mimetype": "text/x-python",
   "name": "python",
   "nbconvert_exporter": "python",
   "pygments_lexer": "ipython3",
   "version": "3.7.8"
  }
 },
 "nbformat": 4,
 "nbformat_minor": 4
}
