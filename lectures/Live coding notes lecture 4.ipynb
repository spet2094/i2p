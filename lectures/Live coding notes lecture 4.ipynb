{
 "cells": [
  {
   "cell_type": "code",
   "execution_count": 1,
   "metadata": {},
   "outputs": [
    {
     "name": "stdout",
     "output_type": "stream",
     "text": [
      "hello world\n"
     ]
    }
   ],
   "source": [
    "print (\"hello world\")"
   ]
  },
  {
   "cell_type": "code",
   "execution_count": 2,
   "metadata": {},
   "outputs": [
    {
     "name": "stdout",
     "output_type": "stream",
     "text": [
      "str\n"
     ]
    }
   ],
   "source": [
    "print (\"hello world\".__class__.__name__)"
   ]
  },
  {
   "cell_type": "code",
   "execution_count": 3,
   "metadata": {},
   "outputs": [
    {
     "data": {
      "text/plain": [
       "(str, object)"
      ]
     },
     "execution_count": 3,
     "metadata": {},
     "output_type": "execute_result"
    }
   ],
   "source": [
    "\"hello world\".__class__.__mro__  # this tells you about inheritance"
   ]
  },
  {
   "cell_type": "code",
   "execution_count": 4,
   "metadata": {},
   "outputs": [],
   "source": [
    "class shape(object):\n",
    "    pass"
   ]
  },
  {
   "cell_type": "code",
   "execution_count": 16,
   "metadata": {},
   "outputs": [
    {
     "ename": "IndentationError",
     "evalue": "unexpected indent (<ipython-input-16-9f27dcc8db65>, line 28)",
     "output_type": "error",
     "traceback": [
      "\u001b[0;36m  File \u001b[0;32m\"<ipython-input-16-9f27dcc8db65>\"\u001b[0;36m, line \u001b[0;32m28\u001b[0m\n\u001b[0;31m    def volume (self):\u001b[0m\n\u001b[0m    ^\u001b[0m\n\u001b[0;31mIndentationError\u001b[0m\u001b[0;31m:\u001b[0m unexpected indent\n"
     ]
    }
   ],
   "source": [
    "from math import pi\n",
    "\n",
    "class shape(object):\n",
    "    \n",
    "    #missing constructor \n",
    "    def __int__(self, dimension:float):\n",
    "        self.dim=dimension \n",
    "        \n",
    "    def volume(self):\n",
    "        raise Exception(\"unimplemented method exception!\")\n",
    "        \n",
    "    def area(self):\n",
    "        raise Exception(\"unimplemented method exception!\")\n",
    "        \n",
    "    def diameter(self):\n",
    "        raise Exception(\"unimplemented method exception!\")\n",
    "        \n",
    "    def sides(self):\n",
    "        raise Exception(\"unimplemented method exception!\")\n",
    "    \n",
    "    def type(self):\n",
    "        return(self.shape_type)\n",
    "    \n",
    "class cube(shape):\n",
    "\n",
    "    shape_type='Cube'\n",
    "    \n",
    "     def volume (self):\n",
    "        return self.dim**3\n",
    "    \n",
    "class sphere(shape):\n",
    "    shape_type='Sphere'\n",
    "        return (4/3) * pi * self.dim**3\n",
    "\n",
    "c = cube(10) \n",
    "s = sphere(10)\n",
    "\n",
    "#print(c.__class__.__mro__)\n",
    "\n",
    "print(c.volume())\n",
    "print(s.volume())\n",
    "print(c.type())\n",
    "print(s.type())\n",
    "print (f\"{s.volume() :>25.2f}\")\n",
    "print (f\"volume is\" {round(c.area))})\n",
    "print (f \"Area is {s.area(): >17.3f}\")\n"
   ]
  },
  {
   "cell_type": "code",
   "execution_count": 17,
   "metadata": {},
   "outputs": [
    {
     "name": "stdout",
     "output_type": "stream",
     "text": [
      "1.1-Getting_Oriented.md\r\n",
      "1.2-Tools_of_the_Trade.md\r\n",
      "1.3-Writing_Code.md\r\n",
      "2.1-Computers_in_Planning_and_Geography.md\r\n",
      "2.2-Principles_of_Programming.md\r\n",
      "2.3-Python_the_Basics.md\r\n",
      "2.4-Lists.md\r\n",
      "2.5-Iteration.md\r\n",
      "2.6-The_Command_Line.md\r\n",
      "2.7-Git.md\r\n",
      "3.1-Dictionaries.md\r\n",
      "3.2-LOLs.md\r\n",
      "3.3-DOLs_to_Data.md\r\n",
      "3.4-Functions.md\r\n",
      "3.5-Packages.md\r\n",
      "4.1-Errors.md\r\n",
      "4.2-Methods.md\r\n",
      "4.3-Classes.md\r\n",
      "4.4-Abstraction.md\r\n",
      "4.5-Logic.md\r\n",
      "4.6-Data.md\r\n",
      "5.1-Files.md\r\n",
      "Live coding notes lecture 4.ipynb\r\n",
      "\u001b[34mimg\u001b[m\u001b[m\r\n",
      "links.md\r\n"
     ]
    }
   ],
   "source": [
    "!ls  # use unix code in ipynb"
   ]
  },
  {
   "cell_type": "code",
   "execution_count": null,
   "metadata": {},
   "outputs": [],
   "source": [
    "!mkdir -p test/shape"
   ]
  },
  {
   "cell_type": "code",
   "execution_count": null,
   "metadata": {},
   "outputs": [],
   "source": [
    "!jupyter nbconvert \\\n",
    "    --to python --output\n",
    "\n",
    "# this is so that you can get all the code you wrote and convert it to a package, save it, then import it\n"
   ]
  }
 ],
 "metadata": {
  "kernelspec": {
   "display_name": "Python 3",
   "language": "python",
   "name": "python3"
  },
  "language_info": {
   "codemirror_mode": {
    "name": "ipython",
    "version": 3
   },
   "file_extension": ".py",
   "mimetype": "text/x-python",
   "name": "python",
   "nbconvert_exporter": "python",
   "pygments_lexer": "ipython3",
   "version": "3.8.3"
  }
 },
 "nbformat": 4,
 "nbformat_minor": 4
}
