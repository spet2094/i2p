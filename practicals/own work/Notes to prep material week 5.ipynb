{
 "cells": [
  {
   "cell_type": "code",
   "execution_count": 3,
   "metadata": {},
   "outputs": [
    {
     "ename": "SyntaxError",
     "evalue": "EOL while scanning string literal (<ipython-input-3-0c425efa6c34>, line 4)",
     "output_type": "error",
     "traceback": [
      "\u001b[0;36m  File \u001b[0;32m\"<ipython-input-3-0c425efa6c34>\"\u001b[0;36m, line \u001b[0;32m4\u001b[0m\n\u001b[0;31m    print(f\"{x:b})\u001b[0m\n\u001b[0m                   ^\u001b[0m\n\u001b[0;31mSyntaxError\u001b[0m\u001b[0;31m:\u001b[0m EOL while scanning string literal\n"
     ]
    }
   ],
   "source": [
    "x=38 \n",
    "y=3\n",
    "\n",
    "print(f\"{x:b})  # ':b' means byte-format\n",
    "print(f\"{y:b}) \n"
   ]
  },
  {
   "cell_type": "code",
   "execution_count": 3,
   "metadata": {},
   "outputs": [
    {
     "name": "stdout",
     "output_type": "stream",
     "text": [
      "<class 'float'>\n"
     ]
    }
   ],
   "source": [
    "import numpy as np\n",
    "print (type(np.nan))"
   ]
  },
  {
   "cell_type": "code",
   "execution_count": 2,
   "metadata": {},
   "outputs": [
    {
     "name": "stdout",
     "output_type": "stream",
     "text": [
      "<class 'NoneType'>\n"
     ]
    }
   ],
   "source": [
    "print(type(None))\n"
   ]
  },
  {
   "cell_type": "code",
   "execution_count": 4,
   "metadata": {},
   "outputs": [
    {
     "name": "stdout",
     "output_type": "stream",
     "text": [
      "False\n"
     ]
    }
   ],
   "source": [
    "print(np.nan==np.nan)"
   ]
  },
  {
   "cell_type": "code",
   "execution_count": 5,
   "metadata": {},
   "outputs": [
    {
     "name": "stdout",
     "output_type": "stream",
     "text": [
      "True\n"
     ]
    }
   ],
   "source": [
    "print(np.nan is np.nan)"
   ]
  },
  {
   "cell_type": "code",
   "execution_count": 6,
   "metadata": {},
   "outputs": [],
   "source": [
    "g = ['Harvey', 'Rose', 'Batty', 'Jefferson']"
   ]
  },
  {
   "cell_type": "code",
   "execution_count": 7,
   "metadata": {},
   "outputs": [
    {
     "name": "stdout",
     "output_type": "stream",
     "text": [
      "in the group!\n",
      "not in the group!\n"
     ]
    }
   ],
   "source": [
    "if 'Batty' in g:\n",
    "    print(\"in the group!\")\n",
    "if 'Marx' not in g:\n",
    "    print(\"not in the group!\")\n"
   ]
  },
  {
   "cell_type": "code",
   "execution_count": 8,
   "metadata": {},
   "outputs": [],
   "source": [
    "s1 = {'cherry', 'oranges', 'banana', 'tomato'}\n",
    "s2 = {'potato', 'celery', 'carrot', 'tomato'}"
   ]
  },
  {
   "cell_type": "code",
   "execution_count": 11,
   "metadata": {},
   "outputs": [
    {
     "name": "stdout",
     "output_type": "stream",
     "text": [
      "False\n"
     ]
    }
   ],
   "source": [
    "print ('potato' in s1)"
   ]
  },
  {
   "cell_type": "code",
   "execution_count": 12,
   "metadata": {},
   "outputs": [
    {
     "name": "stdout",
     "output_type": "stream",
     "text": [
      "{'banana', 'cherry', 'oranges'}\n"
     ]
    }
   ],
   "source": [
    "print(s1.difference(s2))"
   ]
  },
  {
   "cell_type": "code",
   "execution_count": 13,
   "metadata": {},
   "outputs": [
    {
     "name": "stdout",
     "output_type": "stream",
     "text": [
      "{'tomato'}\n"
     ]
    }
   ],
   "source": [
    "print(s1.intersection(s2))"
   ]
  },
  {
   "cell_type": "code",
   "execution_count": 14,
   "metadata": {},
   "outputs": [
    {
     "name": "stdout",
     "output_type": "stream",
     "text": [
      "{'banana', 'celery', 'carrot', 'cherry', 'potato', 'tomato', 'oranges'}\n"
     ]
    }
   ],
   "source": [
    "print(s1.union(s2))"
   ]
  },
  {
   "cell_type": "code",
   "execution_count": 15,
   "metadata": {},
   "outputs": [
    {
     "data": {
      "text/plain": [
       "2"
      ]
     },
     "execution_count": 15,
     "metadata": {},
     "output_type": "execute_result"
    }
   ],
   "source": [
    "import random\n",
    "random.randint(0,10)"
   ]
  },
  {
   "cell_type": "code",
   "execution_count": 16,
   "metadata": {},
   "outputs": [
    {
     "data": {
      "text/plain": [
       "44"
      ]
     },
     "execution_count": 16,
     "metadata": {},
     "output_type": "execute_result"
    }
   ],
   "source": [
    "random.randrange(1,50)"
   ]
  },
  {
   "cell_type": "code",
   "execution_count": 18,
   "metadata": {},
   "outputs": [
    {
     "ename": "TypeError",
     "evalue": "object of type 'int' has no len()",
     "output_type": "error",
     "traceback": [
      "\u001b[0;31m---------------------------------------------------------------------------\u001b[0m",
      "\u001b[0;31mTypeError\u001b[0m                                 Traceback (most recent call last)",
      "\u001b[0;32m<ipython-input-18-c4af6f47a90b>\u001b[0m in \u001b[0;36m<module>\u001b[0;34m\u001b[0m\n\u001b[0;32m----> 1\u001b[0;31m \u001b[0mrandom\u001b[0m\u001b[0;34m.\u001b[0m\u001b[0mchoice\u001b[0m\u001b[0;34m(\u001b[0m\u001b[0;36m1\u001b[0m\u001b[0;34m)\u001b[0m\u001b[0;34m\u001b[0m\u001b[0;34m\u001b[0m\u001b[0m\n\u001b[0m",
      "\u001b[0;32m/Applications/anaconda3/lib/python3.8/random.py\u001b[0m in \u001b[0;36mchoice\u001b[0;34m(self, seq)\u001b[0m\n\u001b[1;32m    286\u001b[0m         \u001b[0;34m\"\"\"Choose a random element from a non-empty sequence.\"\"\"\u001b[0m\u001b[0;34m\u001b[0m\u001b[0;34m\u001b[0m\u001b[0m\n\u001b[1;32m    287\u001b[0m         \u001b[0;32mtry\u001b[0m\u001b[0;34m:\u001b[0m\u001b[0;34m\u001b[0m\u001b[0;34m\u001b[0m\u001b[0m\n\u001b[0;32m--> 288\u001b[0;31m             \u001b[0mi\u001b[0m \u001b[0;34m=\u001b[0m \u001b[0mself\u001b[0m\u001b[0;34m.\u001b[0m\u001b[0m_randbelow\u001b[0m\u001b[0;34m(\u001b[0m\u001b[0mlen\u001b[0m\u001b[0;34m(\u001b[0m\u001b[0mseq\u001b[0m\u001b[0;34m)\u001b[0m\u001b[0;34m)\u001b[0m\u001b[0;34m\u001b[0m\u001b[0;34m\u001b[0m\u001b[0m\n\u001b[0m\u001b[1;32m    289\u001b[0m         \u001b[0;32mexcept\u001b[0m \u001b[0mValueError\u001b[0m\u001b[0;34m:\u001b[0m\u001b[0;34m\u001b[0m\u001b[0;34m\u001b[0m\u001b[0m\n\u001b[1;32m    290\u001b[0m             \u001b[0;32mraise\u001b[0m \u001b[0mIndexError\u001b[0m\u001b[0;34m(\u001b[0m\u001b[0;34m'Cannot choose from an empty sequence'\u001b[0m\u001b[0;34m)\u001b[0m \u001b[0;32mfrom\u001b[0m \u001b[0;32mNone\u001b[0m\u001b[0;34m\u001b[0m\u001b[0;34m\u001b[0m\u001b[0m\n",
      "\u001b[0;31mTypeError\u001b[0m: object of type 'int' has no len()"
     ]
    }
   ],
   "source": [
    "#other options include random.choice, random.sample, random.random, random.gauss"
   ]
  },
  {
   "cell_type": "code",
   "execution_count": 19,
   "metadata": {},
   "outputs": [],
   "source": [
    "size = 10\n",
    "data = [0] *size"
   ]
  },
  {
   "cell_type": "code",
   "execution_count": 20,
   "metadata": {},
   "outputs": [
    {
     "name": "stdout",
     "output_type": "stream",
     "text": [
      "[10170, 10207, 9874, 10038, 10071, 9870, 9838, 10078, 9950, 9904]\n"
     ]
    }
   ],
   "source": [
    "tests = 100000\n",
    "while tests > 0:\n",
    "    data[random.randint(0,len(data)-1)]+=1\n",
    "    tests -=1\n",
    "    \n",
    "print(data)"
   ]
  },
  {
   "cell_type": "code",
   "execution_count": 23,
   "metadata": {},
   "outputs": [
    {
     "name": "stdout",
     "output_type": "stream",
     "text": [
      "Repetition 0:\n",
      "\t[10, 1, 0, 4, 3, 3, 2, 1, 10, 8]\n",
      "Repetition 1:\n",
      "\t[10, 1, 0, 4, 3, 3, 2, 1, 10, 8]\n",
      "Repetition 2:\n",
      "\t[10, 1, 0, 4, 3, 3, 2, 1, 10, 8]\n"
     ]
    }
   ],
   "source": [
    "#generating the same set of random numbers from a seed\n",
    "# use the setstate\n",
    "random.seed(42)\n",
    "st = random.getstate()\n",
    "for r in range(0,3):\n",
    "    random.setstate(st)\n",
    "    print(f\"Repetition {r}:\")\n",
    "    ints = []\n",
    "    for i in range(0,10):\n",
    "        ints.append(random.randint(0,10))\n",
    "    print(f\"\\t{ints}\")"
   ]
  },
  {
   "cell_type": "code",
   "execution_count": 26,
   "metadata": {},
   "outputs": [
    {
     "name": "stdout",
     "output_type": "stream",
     "text": [
      "the hex equivalent of r1 is: dbcec7e7e2c649db9ac241953c3ed1de\n"
     ]
    }
   ],
   "source": [
    "import hashlib\n",
    "#this imports the key for the dictionary into a hashvalue\n",
    "#md5 is a hashing algorithm \n",
    "\n",
    "r1= hashlib.md5('CASA intro to programing'.encode())\n",
    "print(\"the hex equivalent of r1 is: \", end=\"\")\n",
    "print (r1.hexdigest())"
   ]
  },
  {
   "cell_type": "code",
   "execution_count": 25,
   "metadata": {},
   "outputs": [
    {
     "name": "stdout",
     "output_type": "stream",
     "text": [
      "the hex equivalent of r2 is 76e90c65f3c64553f089ffdffb0a0a64\n"
     ]
    }
   ],
   "source": [
    "r2 = hashlib.md5('CASA intro to programing '.encode())\n",
    "print(\"the hex equivalent of r2 is, \"end=\"\")\n",
    "print(r2.hexdigest())\n",
    "#md5 is common\n",
    "#you pass a byte encoded string to the constructor\n",
    "#coding transforms the default text into UTF-8 - thisis not really humanreadable\n",
    "# we can ask for the hexdigest which is a human readable version of this encoded value representing the hash\n",
    "# 'end' is ending the print command on that line. Same as \\n"
   ]
  },
  {
   "cell_type": "code",
   "execution_count": 27,
   "metadata": {},
   "outputs": [
    {
     "name": "stdout",
     "output_type": "stream",
     "text": [
      "A Midsummer Night's Dream by Shakespeare\n",
      "112127\n"
     ]
    }
   ],
   "source": [
    "import requests\n",
    "night = requests.get(\"http://www.gutenberg.org/ebooks/1514.txt.utf-8\")\n",
    "print(night.text[30:70])\n",
    "print(len(night.text))\n"
   ]
  },
  {
   "cell_type": "code",
   "execution_count": 31,
   "metadata": {},
   "outputs": [
    {
     "ename": "AttributeError",
     "evalue": "module 'hashlib' has no attribute 'shal'",
     "output_type": "error",
     "traceback": [
      "\u001b[0;31m---------------------------------------------------------------------------\u001b[0m",
      "\u001b[0;31mAttributeError\u001b[0m                            Traceback (most recent call last)",
      "\u001b[0;32m<ipython-input-31-811b19ff7c2b>\u001b[0m in \u001b[0;36m<module>\u001b[0;34m\u001b[0m\n\u001b[1;32m      2\u001b[0m \u001b[0msalt\u001b[0m \u001b[0;34m=\u001b[0m \u001b[0muuid\u001b[0m\u001b[0;34m.\u001b[0m\u001b[0muuid4\u001b[0m\u001b[0;34m(\u001b[0m\u001b[0;34m)\u001b[0m\u001b[0;34m.\u001b[0m\u001b[0mhex\u001b[0m\u001b[0;34m[\u001b[0m\u001b[0;34m:\u001b[0m\u001b[0;36m16\u001b[0m\u001b[0;34m]\u001b[0m \u001b[0;31m# Truncate salt\u001b[0m\u001b[0;34m\u001b[0m\u001b[0;34m\u001b[0m\u001b[0m\n\u001b[1;32m      3\u001b[0m \u001b[0mpassword\u001b[0m \u001b[0;34m=\u001b[0m \u001b[0;34m'casa2021'\u001b[0m\u001b[0;34m\u001b[0m\u001b[0;34m\u001b[0m\u001b[0m\n\u001b[0;32m----> 4\u001b[0;31m hashed_password = hashlib.shal(password.encode()+\n\u001b[0m\u001b[1;32m      5\u001b[0m                               salt.encode()).hexdigest()\n\u001b[1;32m      6\u001b[0m \u001b[0mprint\u001b[0m\u001b[0;34m(\u001b[0m\u001b[0;34m':'\u001b[0m\u001b[0;34m.\u001b[0m\u001b[0mjoin\u001b[0m\u001b[0;34m(\u001b[0m\u001b[0;34m[\u001b[0m\u001b[0;34m'shal'\u001b[0m\u001b[0;34m,\u001b[0m \u001b[0msalt\u001b[0m\u001b[0;34m,\u001b[0m \u001b[0mhashed_password\u001b[0m\u001b[0;34m]\u001b[0m\u001b[0;34m)\u001b[0m\u001b[0;34m)\u001b[0m\u001b[0;34m\u001b[0m\u001b[0;34m\u001b[0m\u001b[0m\n",
      "\u001b[0;31mAttributeError\u001b[0m: module 'hashlib' has no attribute 'shal'"
     ]
    }
   ],
   "source": [
    "#how to change  your password\n",
    "\n",
    "import uuid, hashlib\n",
    "salt = uuid.uuid4().hex[:16] # Truncate salt\n",
    "password = 'casa2021'\n",
    "hashed_password = hashlib.shal(password.encode()+\n",
    "                              salt.encode()).hexdigest()\n",
    "print(':'.join(['shal', salt, hashed_password]))"
   ]
  },
  {
   "cell_type": "code",
   "execution_count": 32,
   "metadata": {},
   "outputs": [],
   "source": [
    "# it is very easy to hack a SQL server because of the way it is structured\n"
   ]
  },
  {
   "cell_type": "markdown",
   "metadata": {},
   "source": [
    "## Notes on Pandas "
   ]
  },
  {
   "cell_type": "code",
   "execution_count": null,
   "metadata": {},
   "outputs": [],
   "source": [
    "df[\n",
    "    df['Primary type']=='ASSAULT'\n",
    "]\n",
    "\n",
    "# calculations on a slice (returns mean centroid)\n",
    "df[df['primary type']=='ASSAULT'] [['logitude','latitude']]:mean()\n",
    "    \n",
    "# two conditions on a bitwise AND\n",
    "df[\n",
    "    (df['Primary Type']=='ASSAULT') &\n",
    "    (df['Description']=='AGGRAVATED:HANDGUN')\n",
    "]\n",
    "\n",
    "# Two conditions with a bit-wise OR\n",
    "df[\n",
    "    (df['Primary Type']=='ASSAULT') |\n",
    "    (df['Primary Type']=='THEFT')\n",
    "]"
   ]
  },
  {
   "cell_type": "code",
   "execution_count": null,
   "metadata": {},
   "outputs": [],
   "source": [
    "\n",
    "print(df['primary type'].unique())  # find unique values\n",
    "print(df['primary type'].dtype.name)  # ask what kind of data type it is\n",
    "df['Primary Type']= df['Primary type'].astype('category')   #changing the type that the var is from object to category \n",
    "print(df['primary type'].dtype.name)  # this is printing the new type\n",
    "print(df['primary type'].describe())\n",
    "\n",
    "# how to do date time conversion \n",
    "\n",
    "df.Date.to_list()[:3]\n",
    "# this will list out the date times that are currently listed as string\n",
    "df['dt']=pd.to_datetime(df.Date.values,     #to_datetime is the function of the panda package\n",
    "                       format=\"%m/%d/%Y %H:%M:%S %p\")\n",
    "\n",
    "# link to formating conventions of strftime (string format time - check markdown)\n",
    "\n",
    "#Fix categories \n",
    "mapping = {}  #create a new dictionary \n",
    "# df['Primary Type'].unique().to_list() also works\n",
    "for x in df['Primary Type'].cat.categories.to_list():   \n",
    "# for each values in primary type column, we are accessing each of the values in the categories and converts them to a list, \n",
    "# because otherwise it will return an index - otherwise it cannot be read directly in the forloop\n",
    "    mapping[x]=x.title()\n",
    "df['Primary Type'] =df['Primary Type'].cat.rename_categories(mapping)\n",
    "mapping [x]=x.title()\n",
    "df['Primary Type'] = df['Primary Type'].cat.rename_categories(mapping)\n",
    "\n",
    "df2['price'].str.replace('$','').astype(float)  # this is removing the dollar signs \n",
    "\n",
    "print(df.columns.values)\n",
    "df.drop(columns=['Year'], inplace=True)  # adding the inplace=True means that the actual dataframe is changed, but if not, then it's the copy\n",
    "print(df.columns.values)\n",
    "\n",
    "df.dropna() # drops rows or columns with null values\n",
    "\n",
    "df.drop(index=[...]) # used to drop a column with column name in []\n",
    "\n",
    "df[df.ID>1193550] # means dropping all values where ID is above that number (deep copy enabled by .copy)\n",
    "\n",
    "df.iloc [0:2, 0:2]  # integer location\n",
    "df.loc [0:2, ['ID', 'Case']] # locations of the labels in the dictionary \n",
    "\n",
    "df.set_index('ID', inplace=True) # specifying your index variable for your data, setting directly on the dataframe\n",
    "\n",
    "print(df.loc[12345,:])\n",
    "print(df.loc[12345:12344, 'case number':'Date'])\n",
    "\n",
    "df.reset_index # is how to change the index column \n",
    "\n"
   ]
  }
 ],
 "metadata": {
  "kernelspec": {
   "display_name": "Python 3",
   "language": "python",
   "name": "python3"
  },
  "language_info": {
   "codemirror_mode": {
    "name": "ipython",
    "version": 3
   },
   "file_extension": ".py",
   "mimetype": "text/x-python",
   "name": "python",
   "nbconvert_exporter": "python",
   "pygments_lexer": "ipython3",
   "version": "3.8.3"
  }
 },
 "nbformat": 4,
 "nbformat_minor": 4
}
